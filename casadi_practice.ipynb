{
 "cells": [
  {
   "cell_type": "code",
   "execution_count": 17,
   "metadata": {},
   "outputs": [],
   "source": [
    "from casadi import Opti\n",
    "# opts0 = {\"ipopt.linear_solver\":'ma27', \"ipopt.tol\":1e-3, \"expand\":False,'ipopt.print_level': 2, 'print_time': 0, 'ipopt.sb': 'yes'}\n",
    "opts0 = {\"ipopt.tol\":1e-3, \"expand\":False,'ipopt.print_level': 2, 'print_time': 0, 'ipopt.sb': 'yes'}"
   ]
  },
  {
   "cell_type": "code",
   "execution_count": 18,
   "metadata": {},
   "outputs": [
    {
     "data": {
      "text/plain": [
       "OptiSol(Opti {\n",
       "  instance #8\n",
       "  #variables: 1 (nx = 1)\n",
       "  #parameters: 0 (np = 0)\n",
       "  #constraints: 0 (ng = 0)\n",
       "  CasADi solver allocated.\n",
       "  CasADi solver was called: Solve_Succeeded\n",
       "})"
      ]
     },
     "execution_count": 18,
     "metadata": {},
     "output_type": "execute_result"
    }
   ],
   "source": [
    "opti = Opti()\n",
    "\n",
    "x = opti.variable(1)\n",
    "opti.minimize((x-1)**2)\n",
    "opti.solver('ipopt', opts0)\n",
    "opti.solve()"
   ]
  },
  {
   "cell_type": "code",
   "execution_count": 19,
   "metadata": {},
   "outputs": [
    {
     "data": {
      "text/plain": [
       "1.0"
      ]
     },
     "execution_count": 19,
     "metadata": {},
     "output_type": "execute_result"
    }
   ],
   "source": [
    "opti.debug.value(x)"
   ]
  }
 ],
 "metadata": {
  "kernelspec": {
   "display_name": "Python 3 (ipykernel)",
   "language": "python",
   "name": "python3"
  },
  "language_info": {
   "codemirror_mode": {
    "name": "ipython",
    "version": 3
   },
   "file_extension": ".py",
   "mimetype": "text/x-python",
   "name": "python",
   "nbconvert_exporter": "python",
   "pygments_lexer": "ipython3",
   "version": "3.10.6"
  },
  "orig_nbformat": 4
 },
 "nbformat": 4,
 "nbformat_minor": 2
}
