{
 "cells": [
  {
   "cell_type": "code",
   "execution_count": 1,
   "metadata": {},
   "outputs": [],
   "source": [
    "import numpy as np\n",
    "import matplotlib.pyplot as plt\n",
    "\n",
    "import lcmpc.dubins_dynamics as dubins_dynamics\n",
    "from lcmpc.dubins_dynamics import DubinsDynamics\n",
    "from lcmpc.multi_agent_optimization import MultiAgentOptimization\n"
   ]
  },
  {
   "cell_type": "code",
   "execution_count": 2,
   "metadata": {},
   "outputs": [],
   "source": [
    "dubins = DubinsDynamics(control=dubins_dynamics.CONTROL_LIN_ACC_ANG_VEL)\n",
    "deg2rad = np.pi/180\n",
    "x_bounds = np.array([\n",
    "    [-10., 10.],\n",
    "    [-10., 10.],\n",
    "    [-1., 1.],\n",
    "    [-np.inf, np.inf]\n",
    "])\n",
    "u_bounds = np.array([\n",
    "    [-5, 5.],\n",
    "    [-45*deg2rad, 45*deg2rad]\n",
    "])"
   ]
  },
  {
   "cell_type": "code",
   "execution_count": 3,
   "metadata": {},
   "outputs": [],
   "source": [
    "dubins = DubinsDynamics(control=dubins_dynamics.CONTROL_LIN_ACC_ANG_VEL)\n",
    "x0 = np.array([[0.0, 0.0, 0.0, np.pi/4]])\n",
    "xf = np.array([[1.0, 0.0, 0.5, -np.pi/4]])\n",
    "tf = 5.0\n",
    "planner = MultiAgentOptimization(dubins, num_agents=1, num_timesteps=10)\n",
    "\n",
    "N = 100\n",
    "import time\n",
    "t_start = time.time()\n",
    "planner.setup_mpc_opt(x0, xf, tf, x_bounds=x_bounds, u_bounds=u_bounds)\n",
    "x, u, tf = planner.solve_opt()"
   ]
  },
  {
   "cell_type": "code",
   "execution_count": 4,
   "metadata": {},
   "outputs": [
    {
     "data": {
      "image/png": "[encoded data removed]",
      "text/plain": [
       "<Figure size 432x288 with 1 Axes>"
      ]
     },
     "metadata": {
      "needs_background": "light"
     },
     "output_type": "display_data"
    }
   ],
   "source": [
    "fig, ax = planner.draw_path()"
   ]
  },
  {
   "cell_type": "code",
   "execution_count": null,
   "metadata": {},
   "outputs": [],
   "source": []
  }
 ],
 "metadata": {
  "kernelspec": {
   "display_name": ".env",
   "language": "python",
   "name": "python3"
  },
  "language_info": {
   "codemirror_mode": {
    "name": "ipython",
    "version": 3
   },
   "file_extension": ".py",
   "mimetype": "text/x-python",
   "name": "python",
   "nbconvert_exporter": "python",
   "pygments_lexer": "ipython3",
   "version": "3.8.11"
  },
  "orig_nbformat": 4
 },
 "nbformat": 4,
 "nbformat_minor": 2
}
