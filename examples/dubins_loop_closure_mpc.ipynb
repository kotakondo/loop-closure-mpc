{
 "cells": [
  {
   "cell_type": "code",
   "execution_count": 1,
   "metadata": {},
   "outputs": [],
   "source": [
    "%load_ext autoreload\n",
    "%autoreload 2\n",
    "\n",
    "import numpy as np\n",
    "import time\n",
    "import matplotlib.pyplot as plt\n",
    "\n",
    "import lcmpc.dubins_dynamics as dubins_dynamics\n",
    "from lcmpc.dubins_dynamics import DubinsDynamics\n",
    "from lcmpc.multi_agent_optimization import MultiAgentOptimization\n",
    "from lcmpc.occupancy_map import OccupancyMap\n",
    "from lcmpc.loop_closure_aware_mpc import LoopClosureAwareMPC"
   ]
  },
  {
   "cell_type": "code",
   "execution_count": 2,
   "metadata": {},
   "outputs": [],
   "source": [
    "# Define the occupancy map\n",
    "\n",
    "map_size_x = 30\n",
    "map_size_y = 30\n",
    "num_obstacles = 10\n",
    "start_x = 25\n",
    "start_y = 2\n",
    "goal_x = 5\n",
    "goal_y = 20\n",
    "\n",
    "map = OccupancyMap(map_size_x, map_size_y, num_obstacles, start_x, start_y, goal_x, goal_y)"
   ]
  },
  {
   "cell_type": "code",
   "execution_count": 3,
   "metadata": {},
   "outputs": [],
   "source": [
    "# Define the dynamics\n",
    "\n",
    "dubins = DubinsDynamics(control=dubins_dynamics.CONTROL_LIN_ACC_ANG_VEL)\n",
    "deg2rad = np.pi/180\n",
    "x_bounds = np.array([\n",
    "    [-30., 30.],\n",
    "    [-30., 30.],\n",
    "    [-10., 10.],\n",
    "    [-np.inf, np.inf]\n",
    "])\n",
    "u_bounds = np.array([\n",
    "    [-5, 5],\n",
    "    [-45*deg2rad, 45*deg2rad]\n",
    "])"
   ]
  },
  {
   "cell_type": "code",
   "execution_count": 4,
   "metadata": {},
   "outputs": [
    {
     "name": "stdout",
     "output_type": "stream",
     "text": [
      "16.14434885648845\n",
      "(4, 31)\n"
     ]
    }
   ],
   "source": [
    "# Generate the initail guess for the trajectory\n",
    "\n",
    "dubins = DubinsDynamics(control=dubins_dynamics.CONTROL_LIN_ACC_ANG_VEL)\n",
    "x0 = np.array([[map.start_x, map.start_y, 0.0, 0.0]])\n",
    "xf = np.array([[map.goal_x, map.goal_y, 0.0, 0.0]])\n",
    "# tf = 2.0\n",
    "dist = np.linalg.norm(xf[0, 0:2] - x0[0, 0:2])\n",
    "tf = abs(dist/u_bounds[0, 0]*3)\n",
    "print(tf)\n",
    "# initial guess for the trajectory\n",
    "\n",
    "# initial guess\n",
    "point1 = [10, 20, 0, 0]\n",
    "num_timesteps = 30\n",
    "# create a path from x0 to point1 for each 4 elements\n",
    "\n",
    "first_path_first_element = np.interp(np.linspace(0, 1, num_timesteps-20+1), [0, 1], [x0[0, 0], point1[0]])\n",
    "first_path_second_element = np.interp(np.linspace(0, 1, num_timesteps-20+1), [0, 1], [x0[0, 1], point1[1]])\n",
    "first_path_third_element = np.interp(np.linspace(0, 1, num_timesteps-20+1), [0, 1], [x0[0, 2], point1[2]])\n",
    "first_path_fourth_element = np.interp(np.linspace(0, 1, num_timesteps-20+1), [0, 1], [x0[0, 3], point1[3]])\n",
    "\n",
    "second_path_first_element = np.interp(np.linspace(0, 1, 20+1), [0, 1], [point1[0], xf[0, 0]])\n",
    "second_path_second_element = np.interp(np.linspace(0, 1, 20+1), [0, 1], [point1[1], xf[0, 1]])\n",
    "second_path_third_element = np.interp(np.linspace(0, 1, 20+1), [0, 1], [point1[2], xf[0, 2]])\n",
    "second_path_fourth_element = np.interp(np.linspace(0, 1, 20+1), [0, 1], [point1[3], xf[0, 3]])\n",
    "\n",
    "first_element = np.concatenate((first_path_first_element, second_path_first_element[1:]))\n",
    "second_element = np.concatenate((first_path_second_element, second_path_second_element[1:]))\n",
    "third_element = np.concatenate((first_path_third_element, second_path_third_element[1:]))\n",
    "fourth_element = np.concatenate((first_path_fourth_element, second_path_fourth_element[1:]))\n",
    "\n",
    "x_guess = np.array([first_element, second_element, third_element, fourth_element])\n",
    "print(x_guess.shape)\n",
    "# u_guess = np.zeros((dubins.u_shape, num_timesteps))\n",
    "u_guess = None\n",
    "\n",
    "# way points\n",
    "waypoints={}\n"
   ]
  },
  {
   "cell_type": "code",
   "execution_count": 5,
   "metadata": {},
   "outputs": [
    {
     "name": "stdout",
     "output_type": "stream",
     "text": [
      "Optimization took 0.8509702682495117 seconds\n",
      "Optimial cost: 17.063435093575052\n"
     ]
    }
   ],
   "source": [
    "\n",
    "terminal_cost_weight=1.0\n",
    "waypoints_cost_weight=1.0\n",
    "input_cost_weight=1.0\n",
    "travel_cost_weight=1.0\n",
    "travel_dist_cost_weight=0.01\n",
    "input_rate_cost_weight=1.0\n",
    "collision_cost_weight=1.0\n",
    "\n",
    "planner = LoopClosureAwareMPC(dynamics=dubins, occupancy_map=map, num_timesteps=num_timesteps, terminal_cost_weight=terminal_cost_weight, waypoints_cost_weight=waypoints_cost_weight, input_cost_weight=input_cost_weight, travel_cost_weight=travel_cost_weight, travel_dist_cost_weight=travel_dist_cost_weight, input_rate_cost_weight=input_rate_cost_weight, collision_cost_weight=collision_cost_weight)\n",
    "\n",
    "t_start = time.time()\n",
    "planner.setup_mpc_opt(x0, xf, tf, waypoints=waypoints, x_bounds=x_bounds, u_bounds=u_bounds)\n",
    "x, u, tf, cost = planner.solve_opt(x_guess, u_guess)\n",
    "# x, u, tf, cost = planner.solve_opt()\n",
    "t_end = time.time()\n",
    "print(\"Optimization took {} seconds\".format(t_end - t_start))\n",
    "print(\"Optimial cost: {}\".format(cost))"
   ]
  },
  {
   "cell_type": "code",
   "execution_count": 6,
   "metadata": {},
   "outputs": [
    {
     "name": "stderr",
     "output_type": "stream",
     "text": [
      "No artists with labels found to put in legend.  Note that artists whose label start with an underscore are ignored when legend() is called with no argument.\n"
     ]
    },
    {
     "data": {
      "text/plain": [
       "<matplotlib.legend.Legend at 0x7f9be8c7d3a0>"
      ]
     },
     "execution_count": 6,
     "metadata": {},
     "output_type": "execute_result"
    },
    {
     "data": {
      "image/png": "[encoded data removed]",
      "text/plain": [
       "<Figure size 850x1100 with 1 Axes>"
      ]
     },
     "metadata": {},
     "output_type": "display_data"
    }
   ],
   "source": [
    "# Plot the results\n",
    "# fig, ax = planner.draw_path()\n",
    "map.plot_grid(np.array(x))\n",
    "plt.legend()\n",
    "\n",
    "\n"
   ]
  },
  {
   "cell_type": "code",
   "execution_count": null,
   "metadata": {},
   "outputs": [],
   "source": []
  }
 ],
 "metadata": {
  "kernelspec": {
   "display_name": "active_slam",
   "language": "python",
   "name": "python3"
  },
  "language_info": {
   "codemirror_mode": {
    "name": "ipython",
    "version": 3
   },
   "file_extension": ".py",
   "mimetype": "text/x-python",
   "name": "python",
   "nbconvert_exporter": "python",
   "pygments_lexer": "ipython3",
   "version": "3.8.11"
  }
 },
 "nbformat": 4,
 "nbformat_minor": 2
}
